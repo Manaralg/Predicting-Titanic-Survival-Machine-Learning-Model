{
 "cells": [
  {
   "cell_type": "code",
   "execution_count": 82,
   "metadata": {},
   "outputs": [
    {
     "name": "stdout",
     "output_type": "stream",
     "text": [
      "   PassengerId                                               Name     Sex  \\\n",
      "0            1                            Braund, Mr. Owen Harris    male   \n",
      "1            2  Cumings, Mrs. John Bradley (Florence Briggs Th...  female   \n",
      "2            3                             Heikkinen, Miss. Laina  female   \n",
      "3            4       Futrelle, Mrs. Jacques Heath (Lily May Peel)  female   \n",
      "4            5                           Allen, Mr. William Henry    male   \n",
      "\n",
      "    Age  SibSp  Parch   Salary         Job  Survived            Ticket  \\\n",
      "0  22.0      1      0   399.69    wigmaker         0         A/5 21171   \n",
      "1  38.0      1      0  3914.60      doctor         1          PC 17599   \n",
      "2  26.0      0      0   370.30  blacksmith         1  STON/O2. 3101282   \n",
      "3  35.0      1      0  3802.80     surgeon         1            113803   \n",
      "4  35.0      0      0   330.62      barber         0            373450   \n",
      "\n",
      "      Fare Cabin Embarked  \n",
      "0   7.2500   NaN        S  \n",
      "1  71.2833   C85        C  \n",
      "2   7.9250   NaN        S  \n",
      "3  53.1000  C123        S  \n",
      "4   8.0500   NaN        S  \n",
      "(1204, 13)\n",
      "<class 'pandas.core.frame.DataFrame'>\n",
      "RangeIndex: 1204 entries, 0 to 1203\n",
      "Data columns (total 13 columns):\n",
      " #   Column       Non-Null Count  Dtype  \n",
      "---  ------       --------------  -----  \n",
      " 0   PassengerId  1204 non-null   int64  \n",
      " 1   Name         1204 non-null   object \n",
      " 2   Sex          1204 non-null   object \n",
      " 3   Age          962 non-null    float64\n",
      " 4   SibSp        1204 non-null   int64  \n",
      " 5   Parch        1204 non-null   int64  \n",
      " 6   Salary       1204 non-null   float64\n",
      " 7   Job          1204 non-null   object \n",
      " 8   Survived     1204 non-null   int64  \n",
      " 9   Ticket       1204 non-null   object \n",
      " 10  Fare         1203 non-null   float64\n",
      " 11  Cabin        270 non-null    object \n",
      " 12  Embarked     1202 non-null   object \n",
      "dtypes: float64(3), int64(4), object(6)\n",
      "memory usage: 122.4+ KB\n",
      "None\n",
      "PassengerId      0\n",
      "Name             0\n",
      "Sex              0\n",
      "Age            242\n",
      "SibSp            0\n",
      "Parch            0\n",
      "Salary           0\n",
      "Job              0\n",
      "Survived         0\n",
      "Ticket           0\n",
      "Fare             1\n",
      "Cabin          934\n",
      "Embarked         2\n",
      "dtype: int64\n"
     ]
    }
   ],
   "source": [
    "import pandas as pd   \n",
    "import numpy as np  \n",
    "import matplotlib.pyplot as plt \n",
    "import seaborn as sns  \n",
    "import category_encoders as ce   \n",
    "from sklearn.preprocessing import OneHotEncoder, LabelEncoder, MinMaxScaler\n",
    "from sklearn.model_selection import train_test_split, cross_val_score, GridSearchCV\n",
    "from sklearn.linear_model import LogisticRegression\n",
    "from sklearn.ensemble import RandomForestClassifier\n",
    "from scipy.stats import shapiro, normaltest, probplot\n",
    "import joblib\n",
    "\n",
    "dft = pd.read_csv('Titanic Personal Data.csv')   \n",
    "dfp = pd.read_csv('Titanic Ticket Data.csv')     \n",
    "# Merge the dataframes on PassengerId\n",
    "Titanic_data = dft.merge(dfp, on='PassengerId', how='inner')\n",
    "\n",
    "# Initial exploration\n",
    "print(Titanic_data.head())\n",
    "print(Titanic_data.shape)\n",
    "print(Titanic_data.info())\n",
    "print(Titanic_data.isnull().sum())\n"
   ]
  },
  {
   "cell_type": "code",
   "execution_count": 83,
   "metadata": {},
   "outputs": [
    {
     "name": "stdout",
     "output_type": "stream",
     "text": [
      "PassengerId      0\n",
      "Name             0\n",
      "Sex              0\n",
      "Age            242\n",
      "SibSp            0\n",
      "Parch            0\n",
      "Salary           0\n",
      "Job              0\n",
      "Survived         0\n",
      "Ticket           0\n",
      "Fare             1\n",
      "Cabin          934\n",
      "Embarked         2\n",
      "dtype: int64\n"
     ]
    }
   ],
   "source": [
    "print(Titanic_data.isnull().sum())"
   ]
  },
  {
   "cell_type": "code",
   "execution_count": 84,
   "metadata": {},
   "outputs": [
    {
     "data": {
      "text/plain": [
       "Index(['PassengerId', 'Name', 'Sex', 'Age', 'SibSp', 'Parch', 'Salary', 'Job',\n",
       "       'Survived', 'Ticket', 'Fare', 'Cabin', 'Embarked'],\n",
       "      dtype='object')"
      ]
     },
     "execution_count": 84,
     "metadata": {},
     "output_type": "execute_result"
    }
   ],
   "source": [
    "Titanic_data.columns"
   ]
  },
  {
   "cell_type": "code",
   "execution_count": 85,
   "metadata": {},
   "outputs": [
    {
     "name": "stdout",
     "output_type": "stream",
     "text": [
      "PassengerId      0\n",
      "Name             0\n",
      "Sex              0\n",
      "Age            242\n",
      "SibSp            0\n",
      "Parch            0\n",
      "Salary           0\n",
      "Job              0\n",
      "Survived         0\n",
      "Ticket           0\n",
      "Fare             0\n",
      "Cabin          933\n",
      "Embarked         0\n",
      "dtype: int64\n"
     ]
    }
   ],
   "source": [
    "Titanic_data.dropna(subset=[\"Embarked\", \"Fare\"], inplace=True)\n",
    "print(Titanic_data.isnull().sum())\n",
    "\n",
    "Titanic_data[\"Age\"] = Titanic_data[\"Age\"].fillna(-0.5)\n",
    "\n",
    "Titanic_data['Title'] = Titanic_data['Name'].str.extract(' ([A-Za-z]+)\\.', expand=False)\n",
    "\n",
    "Titanic_data['Title'] = Titanic_data['Title'].replace(\n",
    "    ['Lady', 'Capt', 'Col', 'Don', 'Dr', 'Major', 'Rev', 'Jonkheer', 'Dona'], 'Rare'\n",
    ")\n",
    "Titanic_data['Title'] = Titanic_data['Title'].replace(['Countess', 'Lady', 'Sir'], 'Royal')\n",
    "Titanic_data['Title'] = Titanic_data['Title'].replace('Mlle', 'Miss')\n",
    "Titanic_data['Title'] = Titanic_data['Title'].replace('Ms', 'Miss')\n",
    "Titanic_data['Title'] = Titanic_data['Title'].replace('Mme', 'Mrs')\n",
    "\n",
    "title_mapping = {\"Mr\": 1, \"Miss\": 2, \"Mrs\": 3, \"Master\": 4, \"Royal\": 5, \"Rare\": 6}\n",
    "Titanic_data['Title'] = Titanic_data['Title'].map(title_mapping)\n",
    "\n",
    "Titanic_data[\"Age\"] = Titanic_data[\"Age\"].replace(-0.5, np.nan)\n",
    "\n",
    "mode_age_by_title = Titanic_data.groupby('Title')['Age'].agg(lambda x: x.mode()[0])\n",
    "Titanic_data.loc[Titanic_data['Age'].isnull(), 'Age'] = \\\n",
    "    Titanic_data.loc[Titanic_data['Age'].isnull(), 'Title'].map(mode_age_by_title)\n",
    "\n",
    "bins = [0, 5, 12, 18, 24, 35, 60, np.inf]\n",
    "labels = ['Baby', 'Child', 'Teenager', 'Student', 'Young Adult', 'Adult', 'Senior']\n",
    "Titanic_data['AgeGroup'] = pd.cut(Titanic_data[\"Age\"], bins, labels=labels)\n",
    "\n",
    "Titanic_data['HasCabin'] = Titanic_data['Cabin'].apply(lambda x: 0 if pd.isnull(x) else 1)\n",
    "Titanic_data['Deck'] = Titanic_data['Cabin'].astype(str).str[0]\n",
    "Titanic_data['Deck'] = Titanic_data['Deck'].replace('n', 'U')  # Unknown\n",
    "\n",
    "Titanic_data = Titanic_data.drop('Cabin', axis=1)\n",
    "\n",
    "Titanic_data['Age'] = Titanic_data['Age'].clip(upper=80)\n",
    "Titanic_data['SibSp'] = Titanic_data['SibSp'].clip(upper=8)\n",
    "Titanic_data['Parch'] = Titanic_data['Parch'].clip(upper=6)\n",
    "\n",
    "Titanic_data['Fare'] = Titanic_data['Fare'].apply(lambda x: np.log1p(x))\n",
    "Titanic_data['Salary'] = Titanic_data['Salary'].clip(\n",
    "    upper=Titanic_data['Salary'].quantile(0.99)\n",
    ")\n",
    "Titanic_data['Salary'] = np.log1p(Titanic_data['Salary'])  \n",
    "\n",
    "Titanic_data['FamilySize'] = Titanic_data['SibSp'] + Titanic_data['Parch'] + 1\n",
    "Titanic_data['FamilySizeEncoded'] = pd.cut(\n",
    "    Titanic_data['FamilySize'],\n",
    "    bins=[0, 1, 4, float('inf')],\n",
    "    labels=[0, 1, 2],\n",
    "    right=True\n",
    ").astype(int)\n"
   ]
  },
  {
   "cell_type": "code",
   "execution_count": 86,
   "metadata": {},
   "outputs": [
    {
     "name": "stdout",
     "output_type": "stream",
     "text": [
      "PassengerId          0\n",
      "Name                 0\n",
      "Sex                  0\n",
      "Age                  0\n",
      "SibSp                0\n",
      "Parch                0\n",
      "Salary               0\n",
      "Job                  0\n",
      "Survived             0\n",
      "Ticket               0\n",
      "Fare                 0\n",
      "Embarked             0\n",
      "Title                0\n",
      "AgeGroup             0\n",
      "HasCabin             0\n",
      "Deck                 0\n",
      "FamilySize           0\n",
      "FamilySizeEncoded    0\n",
      "dtype: int64\n"
     ]
    }
   ],
   "source": [
    "print(Titanic_data.isnull().sum())"
   ]
  },
  {
   "cell_type": "code",
   "execution_count": 87,
   "metadata": {},
   "outputs": [
    {
     "data": {
      "text/plain": [
       "Deck\n",
       "U    933\n",
       "C     86\n",
       "B     59\n",
       "D     42\n",
       "E     37\n",
       "F     20\n",
       "A     18\n",
       "G      5\n",
       "T      1\n",
       "Name: count, dtype: int64"
      ]
     },
     "execution_count": 87,
     "metadata": {},
     "output_type": "execute_result"
    }
   ],
   "source": [
    "Titanic_data['Deck'].value_counts()"
   ]
  },
  {
   "cell_type": "code",
   "execution_count": 88,
   "metadata": {},
   "outputs": [
    {
     "name": "stdout",
     "output_type": "stream",
     "text": [
      "Deck\n",
      "U    933\n",
      "C     86\n",
      "B     59\n",
      "D     42\n",
      "E     37\n",
      "F     20\n",
      "A     18\n",
      "G      5\n",
      "T      1\n",
      "Name: count, dtype: int64\n"
     ]
    }
   ],
   "source": [
    "deck_counts = Titanic_data['Deck'].value_counts()\n",
    "print(deck_counts)\n"
   ]
  },
  {
   "cell_type": "code",
   "execution_count": 89,
   "metadata": {},
   "outputs": [
    {
     "name": "stdout",
     "output_type": "stream",
     "text": [
      "        Age  Job_0  Job_1  Job_2  Job_3  Job_4  Survived  HasCabin  \\\n",
      "0  0.287881      0      0      0      0      1         0         0   \n",
      "1  0.498879      0      0      0      1      0         1         1   \n",
      "2  0.340630      0      0      0      1      1         1         0   \n",
      "3  0.459317      0      0      1      0      0         1         1   \n",
      "4  0.459317      0      0      1      0      1         0         0   \n",
      "\n",
      "   FamilySizeEncoded  Sex_male  ...  Title_5  Title_6  DeckGroup_Lower  \\\n",
      "0                  1       1.0  ...      0.0      0.0            False   \n",
      "1                  1       0.0  ...      0.0      0.0            False   \n",
      "2                  0       0.0  ...      0.0      0.0            False   \n",
      "3                  1       0.0  ...      0.0      0.0            False   \n",
      "4                  0       1.0  ...      0.0      0.0            False   \n",
      "\n",
      "   DeckGroup_Middle  DeckGroup_Unknown  DeckGroup_Upper  AgeGroup_encoded  \\\n",
      "0             False               True            False                 4   \n",
      "1             False              False             True                 0   \n",
      "2             False               True            False                 6   \n",
      "3             False              False             True                 6   \n",
      "4             False               True            False                 6   \n",
      "\n",
      "   Salary_log  FareBin_Medium  FareBin_High  \n",
      "0    0.797314            True         False  \n",
      "1    0.984943           False          True  \n",
      "2    0.790030            True         False  \n",
      "3    0.982862            True         False  \n",
      "4    0.779074            True         False  \n",
      "\n",
      "[5 rows x 25 columns]\n"
     ]
    },
    {
     "name": "stderr",
     "output_type": "stream",
     "text": [
      "/Library/Frameworks/Python.framework/Versions/3.10/lib/python3.10/site-packages/sklearn/base.py:411: FutureWarning: The `_get_tags` method is deprecated in 1.6 and will be removed in 1.7. Please implement the `__sklearn_tags__` method.\n",
      "  warnings.warn(\n"
     ]
    }
   ],
   "source": [
    "import category_encoders as ce\n",
    "from sklearn.preprocessing import OneHotEncoder, LabelEncoder, MinMaxScaler\n",
    "import pandas as pd\n",
    "import numpy as np\n",
    "\n",
    "binary_encoder = ce.BinaryEncoder(cols=['Job'])\n",
    "Titanic_data = binary_encoder.fit_transform(Titanic_data)\n",
    "\n",
    "one_hot_columns = ['Sex', 'Embarked', 'Title']\n",
    "one_hot_encoder = OneHotEncoder(sparse_output=False, drop='first')\n",
    "encoded_one_hot = pd.DataFrame(\n",
    "    one_hot_encoder.fit_transform(Titanic_data[one_hot_columns]),\n",
    "    columns=one_hot_encoder.get_feature_names_out(one_hot_columns),\n",
    "    index=Titanic_data.index\n",
    ")\n",
    "Titanic_data = Titanic_data.drop(columns=one_hot_columns).join(encoded_one_hot)\n",
    "\n",
    "deck_mapping = {\n",
    "    'A': 'Upper',\n",
    "    'B': 'Upper',\n",
    "    'C': 'Upper',\n",
    "    'D': 'Middle',\n",
    "    'E': 'Middle',\n",
    "    'F': 'Lower',\n",
    "    'G': 'Lower',\n",
    "    'T': 'Lower',   \n",
    "    'U': 'Unknown' \n",
    "}\n",
    "\n",
    "Titanic_data['DeckGroup'] = Titanic_data['Deck'].map(deck_mapping)\n",
    "\n",
    "Titanic_data = pd.get_dummies(Titanic_data, columns=['DeckGroup'], prefix='DeckGroup', drop_first=False)\n",
    "\n",
    "Titanic_data = Titanic_data.drop('Deck', axis=1)\n",
    "\n",
    "label_encoder = LabelEncoder()\n",
    "Titanic_data['AgeGroup_encoded'] = label_encoder.fit_transform(Titanic_data['AgeGroup'])\n",
    "Titanic_data = Titanic_data.drop(columns=['AgeGroup'])\n",
    "\n",
    "Titanic_data = Titanic_data.drop(columns=['PassengerId', 'Name', 'Ticket'], axis=1)\n",
    "\n",
    "Titanic_data['Salary_log'] = np.log1p(Titanic_data['Salary'])\n",
    "Titanic_data = Titanic_data.drop('Salary', axis=1)\n",
    "\n",
    "columns_to_normalize = ['Age', 'SibSp', 'Parch', 'Fare', 'Salary_log']\n",
    "scaler = MinMaxScaler()\n",
    "Titanic_data[columns_to_normalize] = scaler.fit_transform(Titanic_data[columns_to_normalize])\n",
    "\n",
    "Titanic_data['FareBin'] = pd.cut(Titanic_data['Fare'], bins=3, labels=['Low', 'Medium', 'High'])\n",
    "\n",
    "if 'FamilySize' in Titanic_data.columns:\n",
    "    Titanic_data = Titanic_data.drop(columns=['Fare', 'FamilySize'], axis=1)\n",
    "else:\n",
    "    Titanic_data = Titanic_data.drop(columns=['Fare'], axis=1)\n",
    "\n",
    "Titanic_data = pd.get_dummies(Titanic_data, columns=['FareBin'], drop_first=True)\n",
    "\n",
    "columns_to_drop = ['Parch', 'SibSp']\n",
    "for col in columns_to_drop:\n",
    "    if col in Titanic_data.columns:\n",
    "        Titanic_data = Titanic_data.drop(col, axis=1)\n",
    "\n",
    "print(Titanic_data.head())\n"
   ]
  },
  {
   "cell_type": "code",
   "execution_count": 90,
   "metadata": {},
   "outputs": [
    {
     "data": {
      "text/plain": [
       "Index(['Age', 'Job_0', 'Job_1', 'Job_2', 'Job_3', 'Job_4', 'Survived',\n",
       "       'HasCabin', 'FamilySizeEncoded', 'Sex_male', 'Embarked_Q', 'Embarked_S',\n",
       "       'Title_2', 'Title_3', 'Title_4', 'Title_5', 'Title_6',\n",
       "       'DeckGroup_Lower', 'DeckGroup_Middle', 'DeckGroup_Unknown',\n",
       "       'DeckGroup_Upper', 'AgeGroup_encoded', 'Salary_log', 'FareBin_Medium',\n",
       "       'FareBin_High'],\n",
       "      dtype='object')"
      ]
     },
     "execution_count": 90,
     "metadata": {},
     "output_type": "execute_result"
    }
   ],
   "source": [
    "Titanic_data.columns"
   ]
  },
  {
   "cell_type": "code",
   "execution_count": 91,
   "metadata": {},
   "outputs": [],
   "source": [
    "X = Titanic_data.drop('Survived', axis=1)\n",
    "y = Titanic_data['Survived']\n",
    "\n",
    "logistic_features = [\n",
    "    'Salary_log', 'Sex_male', 'Embarked_Q', 'Embarked_S',\n",
    "    'HasCabin', 'AgeGroup_encoded', 'FamilySizeEncoded',\n",
    "    'FareBin_Medium', 'FareBin_High'\n",
    "]\n",
    "\n",
    "random_forest_features = [\n",
    "    'Salary_log', 'Sex_male', 'Embarked_Q', 'Embarked_S', 'HasCabin',\n",
    "    'AgeGroup_encoded', 'FamilySizeEncoded', 'FareBin_Medium', 'FareBin_High',\n",
    "    'Title_2', 'Title_3', 'Title_4', 'Title_5', 'Title_6',\n",
    "    'DeckGroup_Middle', 'DeckGroup_Unknown', 'DeckGroup_Upper'\n",
    "]\n",
    "\n",
    "X_logistic = Titanic_data[logistic_features]\n",
    "X_rf = Titanic_data[random_forest_features]\n",
    "\n",
    "X_train_log, X_test_log, y_train_log, y_test_log = train_test_split(\n",
    "    X_logistic, y, test_size=0.2, stratify=y, random_state=42\n",
    ")\n",
    "\n",
    "X_train_rf, X_test_rf, y_train_rf, y_test_rf = train_test_split(\n",
    "    X_rf, y, test_size=0.2, stratify=y, random_state=42\n",
    ")\n"
   ]
  },
  {
   "cell_type": "code",
   "execution_count": 92,
   "metadata": {},
   "outputs": [
    {
     "name": "stdout",
     "output_type": "stream",
     "text": [
      "Logistic Regression Baseline Accuracy: 0.85\n",
      "Random Forest Baseline Accuracy: 0.82\n"
     ]
    }
   ],
   "source": [
    "from sklearn.metrics import accuracy_score\n",
    "from sklearn.ensemble import RandomForestClassifier\n",
    "from sklearn.linear_model import LogisticRegression\n",
    "\n",
    "log_model = LogisticRegression(random_state=42)\n",
    "log_model.fit(X_train_log, y_train_log)\n",
    "y_pred_log = log_model.predict(X_test_log)\n",
    "print(f\"Logistic Regression Baseline Accuracy: {accuracy_score(y_test_log, y_pred_log):.2f}\")\n",
    "\n",
    "rf_model = RandomForestClassifier(random_state=42)\n",
    "rf_model.fit(X_train_rf, y_train_rf)\n",
    "y_pred_rf = rf_model.predict(X_test_rf)\n",
    "print(f\"Random Forest Baseline Accuracy: {accuracy_score(y_test_rf, y_pred_rf):.2f}\")"
   ]
  },
  {
   "cell_type": "code",
   "execution_count": 93,
   "metadata": {},
   "outputs": [
    {
     "name": "stdout",
     "output_type": "stream",
     "text": [
      "Cross-Validation Accuracy (Logistic Regression): 0.86\n",
      "Cross-Validation Accuracy (Random Forest): 0.82\n"
     ]
    }
   ],
   "source": [
    "log_model = LogisticRegression(random_state=42)\n",
    "log_model.fit(X_train_log, y_train_log)\n",
    "\n",
    "rf_model = RandomForestClassifier(random_state=42)\n",
    "rf_model.fit(X_train_rf, y_train_rf)\n",
    "\n",
    "cv_scores = cross_val_score(log_model, X_train_log, y_train_log, cv=5, scoring='accuracy')\n",
    "print(f\"Cross-Validation Accuracy (Logistic Regression): {cv_scores.mean():.2f}\")\n",
    "cv_scores = cross_val_score(rf_model, X_train_rf, y_train_rf, cv=5, scoring='accuracy')\n",
    "print(f\"Cross-Validation Accuracy (Random Forest): {cv_scores.mean():.2f}\")"
   ]
  },
  {
   "cell_type": "code",
   "execution_count": 94,
   "metadata": {},
   "outputs": [
    {
     "name": "stdout",
     "output_type": "stream",
     "text": [
      "Best Parameters (Logistic Regression): {'C': 0.1}\n",
      "Best CV Accuracy (LR): 0.86\n",
      "Best Parameters (Random Forest): {'max_depth': 5, 'min_samples_split': 2, 'n_estimators': 100}\n",
      "Best CV Accuracy (RF): 0.87\n"
     ]
    }
   ],
   "source": [
    "param_grid_log = {'C': [0.01, 0.1, 1, 10, 100]}\n",
    "grid_search_log = GridSearchCV(LogisticRegression(random_state=42), param_grid_log, cv=5, scoring='accuracy')\n",
    "grid_search_log.fit(X_train_log, y_train_log)\n",
    "best_log_model = grid_search_log.best_estimator_\n",
    "print(f\"Best Parameters (Logistic Regression): {grid_search_log.best_params_}\")\n",
    "print(f\"Best CV Accuracy (LR): {grid_search_log.best_score_:.2f}\")\n",
    "\n",
    "param_grid_rf = {\n",
    "    'n_estimators': [100, 200, 300],\n",
    "    'max_depth': [5, 10, 20, None],\n",
    "    'min_samples_split': [2, 5, 10]\n",
    "}\n",
    "grid_search_rf = GridSearchCV(RandomForestClassifier(random_state=42), param_grid_rf, cv=5, scoring='accuracy')\n",
    "grid_search_rf.fit(X_train_rf, y_train_rf)\n",
    "best_rf_model = grid_search_rf.best_estimator_\n",
    "print(f\"Best Parameters (Random Forest): {grid_search_rf.best_params_}\")\n",
    "print(f\"Best CV Accuracy (RF): {grid_search_rf.best_score_:.2f}\")\n"
   ]
  },
  {
   "cell_type": "code",
   "execution_count": 95,
   "metadata": {},
   "outputs": [
    {
     "name": "stdout",
     "output_type": "stream",
     "text": [
      "Tuned Logistic Regression Test Accuracy: 0.85\n",
      "Tuned Random Forest Test Accuracy: 0.86\n"
     ]
    }
   ],
   "source": [
    "from sklearn.metrics import accuracy_score, classification_report, confusion_matrix, roc_auc_score, roc_curve\n",
    "\n",
    "log_test_accuracy = best_log_model.score(X_test_log, y_test_log)\n",
    "print(f\"Tuned Logistic Regression Test Accuracy: {log_test_accuracy:.2f}\")\n",
    "\n",
    "rf_test_accuracy = best_rf_model.score(X_test_rf, y_test_rf)\n",
    "print(f\"Tuned Random Forest Test Accuracy: {rf_test_accuracy:.2f}\")\n"
   ]
  },
  {
   "cell_type": "code",
   "execution_count": 96,
   "metadata": {},
   "outputs": [
    {
     "name": "stdout",
     "output_type": "stream",
     "text": [
      "AUC-ROC (Logistic Regression): 0.87\n",
      "AUC-ROC (Random Forest): 0.91\n"
     ]
    }
   ],
   "source": [
    "from sklearn.metrics import roc_auc_score\n",
    "\n",
    "log_roc_auc = roc_auc_score(y_test_log, best_log_model.predict_proba(X_test_log)[:, 1])\n",
    "\n",
    "rf_roc_auc = roc_auc_score(y_test_rf, best_rf_model.predict_proba(X_test_rf)[:, 1])\n",
    "\n",
    "print(f\"AUC-ROC (Logistic Regression): {log_roc_auc:.2f}\")\n",
    "print(f\"AUC-ROC (Random Forest): {rf_roc_auc:.2f}\")\n"
   ]
  },
  {
   "cell_type": "code",
   "execution_count": 97,
   "metadata": {},
   "outputs": [
    {
     "name": "stdout",
     "output_type": "stream",
     "text": [
      "Comparison of Model Results:\n",
      "                 Model  Test Accuracy  Cross-Validation Accuracy  AUC-ROC\n",
      "0  Logistic Regression       0.854772                       0.86     0.87\n",
      "1        Random Forest       0.863071                       0.87     0.91\n"
     ]
    }
   ],
   "source": [
    "import pandas as pd\n",
    "\n",
    "results = pd.DataFrame({\n",
    "    'Model': ['Logistic Regression', 'Random Forest'],\n",
    "    'Test Accuracy': [log_test_accuracy, rf_test_accuracy],\n",
    "    'Cross-Validation Accuracy': [0.86, 0.87],\n",
    "    'AUC-ROC': [0.87, 0.91]  \n",
    "})\n",
    "\n",
    "print(\"Comparison of Model Results:\")\n",
    "print(results)\n"
   ]
  },
  {
   "cell_type": "code",
   "execution_count": 98,
   "metadata": {},
   "outputs": [
    {
     "data": {
      "image/png": "[encoded data removed]",
      "text/plain": [
       "<Figure size 640x480 with 1 Axes>"
      ]
     },
     "metadata": {},
     "output_type": "display_data"
    }
   ],
   "source": [
    "import matplotlib.pyplot as plt\n",
    "\n",
    "models = ['Logistic Regression', 'Random Forest']\n",
    "test_accuracies = [log_test_accuracy, rf_test_accuracy]\n",
    "cv_accuracies = [0.86, 0.87] \n",
    "\n",
    "plt.bar(models, test_accuracies, label='Test Accuracy', alpha=0.7)\n",
    "plt.bar(models, cv_accuracies, label='Cross-Validation Accuracy', alpha=0.7)\n",
    "plt.title(\"Performance Comparison of Models\")\n",
    "plt.ylabel(\"Accuracy\")\n",
    "plt.show()\n"
   ]
  },
  {
   "cell_type": "code",
   "execution_count": 99,
   "metadata": {},
   "outputs": [
    {
     "name": "stdout",
     "output_type": "stream",
     "text": [
      "Random Forest Classification Report:\n",
      "\n",
      "              precision    recall  f1-score   support\n",
      "\n",
      "           0       0.86      0.94      0.90       151\n",
      "           1       0.88      0.73      0.80        90\n",
      "\n",
      "    accuracy                           0.86       241\n",
      "   macro avg       0.87      0.84      0.85       241\n",
      "weighted avg       0.86      0.86      0.86       241\n",
      "\n",
      "Confusion Matrix:\n",
      "[[142   9]\n",
      " [ 24  66]]\n"
     ]
    }
   ],
   "source": [
    "\n",
    "y_pred_rf = best_rf_model.predict(X_test_rf)\n",
    "y_pred_rf_proba = best_rf_model.predict_proba(X_test_rf)[:, 1]\n",
    "\n",
    "print(\"Random Forest Classification Report:\\n\")\n",
    "print(classification_report(y_test_rf, y_pred_rf))\n",
    "\n",
    "print(\"Confusion Matrix:\")\n",
    "print(confusion_matrix(y_test_rf, y_pred_rf))\n",
    "\n"
   ]
  },
  {
   "cell_type": "code",
   "execution_count": 100,
   "metadata": {},
   "outputs": [
    {
     "name": "stdout",
     "output_type": "stream",
     "text": [
      "Misclassified Samples (Random Forest):\n",
      "     Salary_log  Sex_male  Embarked_Q  Embarked_S  HasCabin  AgeGroup_encoded  \\\n",
      "364    0.707752       0.0         0.0         1.0         0                 4   \n",
      "104    0.666719       0.0         0.0         1.0         0                 4   \n",
      "153    0.782875       0.0         0.0         1.0         0                 0   \n",
      "162    0.960171       0.0         0.0         0.0         1                 0   \n",
      "813    0.955747       1.0         0.0         0.0         1                 6   \n",
      "783    0.999772       1.0         0.0         1.0         1                 0   \n",
      "812    0.769754       0.0         0.0         1.0         0                 4   \n",
      "635    0.984209       1.0         0.0         1.0         1                 6   \n",
      "639    0.940224       1.0         0.0         1.0         1                 0   \n",
      "598    0.788706       1.0         0.0         1.0         0                 4   \n",
      "757    0.850706       1.0         0.0         1.0         0                 1   \n",
      "151    0.743308       1.0         0.0         1.0         0                 2   \n",
      "702    0.918295       0.0         0.0         1.0         1                 0   \n",
      "186    0.784878       1.0         0.0         1.0         0                 5   \n",
      "731    0.737378       1.0         0.0         0.0         0                 1   \n",
      "595    0.960089       1.0         0.0         1.0         0                 0   \n",
      "206    0.908023       1.0         0.0         1.0         0                 4   \n",
      "191    1.000000       1.0         0.0         0.0         1                 0   \n",
      "644    0.973243       1.0         0.0         1.0         1                 0   \n",
      "656    0.984631       1.0         0.0         1.0         1                 6   \n",
      "730    0.982926       1.0         0.0         1.0         1                 2   \n",
      "70     0.901296       1.0         0.0         1.0         0                 1   \n",
      "261    0.789152       1.0         0.0         1.0         0                 6   \n",
      "114    0.796289       1.0         0.0         0.0         0                 2   \n",
      "401    0.708678       1.0         0.0         1.0         0                 4   \n",
      "989    0.646581       0.0         0.0         1.0         0                 4   \n",
      "795    0.730927       1.0         0.0         1.0         0                 1   \n",
      "744    0.777257       0.0         0.0         1.0         0                 4   \n",
      "717    0.721902       1.0         0.0         1.0         0                 1   \n",
      "569    0.999277       1.0         0.0         0.0         1                 6   \n",
      "614    0.752906       0.0         1.0         0.0         0                 4   \n",
      "275    0.664750       1.0         1.0         0.0         0                 4   \n",
      "359    0.737468       0.0         0.0         1.0         0                 6   \n",
      "\n",
      "     FamilySizeEncoded  FareBin_Medium  FareBin_High  Title_2  Title_3  \\\n",
      "364                  1            True         False      1.0      0.0   \n",
      "104                  1            True         False      1.0      0.0   \n",
      "153                  2            True         False      0.0      1.0   \n",
      "162                  0            True         False      1.0      0.0   \n",
      "813                  0            True         False      0.0      0.0   \n",
      "783                  0            True         False      0.0      0.0   \n",
      "812                  1            True         False      1.0      0.0   \n",
      "635                  0            True         False      0.0      0.0   \n",
      "639                  0            True         False      0.0      0.0   \n",
      "598                  1            True         False      0.0      0.0   \n",
      "757                  1            True         False      0.0      0.0   \n",
      "151                  1            True         False      0.0      0.0   \n",
      "702                  0            True         False      0.0      1.0   \n",
      "186                  0            True         False      0.0      0.0   \n",
      "731                  1            True         False      0.0      0.0   \n",
      "595                  1           False          True      0.0      0.0   \n",
      "206                  0            True         False      0.0      0.0   \n",
      "191                  0            True         False      0.0      0.0   \n",
      "644                  1            True         False      0.0      0.0   \n",
      "656                  1            True         False      0.0      0.0   \n",
      "730                  1           False          True      0.0      0.0   \n",
      "70                   1            True         False      0.0      0.0   \n",
      "261                  0            True         False      0.0      0.0   \n",
      "114                  1            True         False      0.0      0.0   \n",
      "401                  0            True         False      0.0      0.0   \n",
      "989                  2           False          True      1.0      0.0   \n",
      "795                  1            True         False      0.0      0.0   \n",
      "744                  0            True         False      1.0      0.0   \n",
      "717                  1            True         False      0.0      0.0   \n",
      "569                  0            True         False      0.0      0.0   \n",
      "614                  0            True         False      1.0      0.0   \n",
      "275                  1            True         False      0.0      0.0   \n",
      "359                  0            True         False      1.0      0.0   \n",
      "\n",
      "     Title_4  Title_5  Title_6  DeckGroup_Middle  DeckGroup_Unknown  \\\n",
      "364      0.0      0.0      0.0             False               True   \n",
      "104      0.0      0.0      0.0             False               True   \n",
      "153      0.0      0.0      0.0             False               True   \n",
      "162      0.0      0.0      0.0             False              False   \n",
      "813      0.0      0.0      0.0             False              False   \n",
      "783      0.0      0.0      0.0              True              False   \n",
      "812      0.0      0.0      0.0             False               True   \n",
      "635      0.0      0.0      0.0              True              False   \n",
      "639      0.0      0.0      0.0              True              False   \n",
      "598      0.0      0.0      0.0             False               True   \n",
      "757      1.0      0.0      0.0             False               True   \n",
      "151      1.0      0.0      0.0             False               True   \n",
      "702      0.0      0.0      0.0              True              False   \n",
      "186      0.0      0.0      0.0             False               True   \n",
      "731      1.0      0.0      0.0             False               True   \n",
      "595      0.0      0.0      1.0             False               True   \n",
      "206      0.0      0.0      0.0             False               True   \n",
      "191      0.0      0.0      0.0             False              False   \n",
      "644      0.0      0.0      0.0             False              False   \n",
      "656      0.0      0.0      0.0              True              False   \n",
      "730      1.0      0.0      0.0             False              False   \n",
      "70       1.0      0.0      0.0             False               True   \n",
      "261      0.0      0.0      0.0             False               True   \n",
      "114      1.0      0.0      0.0             False               True   \n",
      "401      0.0      0.0      0.0             False               True   \n",
      "989      0.0      0.0      0.0             False               True   \n",
      "795      1.0      0.0      0.0             False               True   \n",
      "744      0.0      0.0      0.0             False               True   \n",
      "717      1.0      0.0      0.0             False               True   \n",
      "569      0.0      0.0      1.0             False              False   \n",
      "614      0.0      0.0      0.0             False               True   \n",
      "275      0.0      0.0      0.0             False               True   \n",
      "359      0.0      0.0      0.0             False               True   \n",
      "\n",
      "     DeckGroup_Upper  \n",
      "364            False  \n",
      "104            False  \n",
      "153            False  \n",
      "162             True  \n",
      "813             True  \n",
      "783            False  \n",
      "812            False  \n",
      "635            False  \n",
      "639            False  \n",
      "598            False  \n",
      "757            False  \n",
      "151            False  \n",
      "702            False  \n",
      "186            False  \n",
      "731            False  \n",
      "595            False  \n",
      "206            False  \n",
      "191             True  \n",
      "644             True  \n",
      "656            False  \n",
      "730             True  \n",
      "70             False  \n",
      "261            False  \n",
      "114            False  \n",
      "401            False  \n",
      "989            False  \n",
      "795            False  \n",
      "744            False  \n",
      "717            False  \n",
      "569             True  \n",
      "614            False  \n",
      "275            False  \n",
      "359            False  \n"
     ]
    }
   ],
   "source": [
    "import numpy as np\n",
    "misclassified_indices = np.where(y_test_rf != y_pred_rf)\n",
    "print(\"Misclassified Samples (Random Forest):\")\n",
    "print(X_test_rf.iloc[misclassified_indices])\n"
   ]
  },
  {
   "cell_type": "code",
   "execution_count": 101,
   "metadata": {},
   "outputs": [
    {
     "name": "stdout",
     "output_type": "stream",
     "text": [
      "Logistic Regression Classification Report:\n",
      "\n",
      "              precision    recall  f1-score   support\n",
      "\n",
      "           0       0.85      0.93      0.89       151\n",
      "           1       0.86      0.73      0.79        90\n",
      "\n",
      "    accuracy                           0.85       241\n",
      "   macro avg       0.86      0.83      0.84       241\n",
      "weighted avg       0.85      0.85      0.85       241\n",
      "\n",
      "Confusion Matrix (Logistic Regression):\n",
      "[[140  11]\n",
      " [ 24  66]]\n",
      "Misclassified Samples (Logistic Regression):\n",
      "     Salary_log  Sex_male  Embarked_Q  Embarked_S  HasCabin  AgeGroup_encoded  \\\n",
      "364    0.707752       0.0         0.0         1.0         0                 4   \n",
      "104    0.666719       0.0         0.0         1.0         0                 4   \n",
      "153    0.782875       0.0         0.0         1.0         0                 0   \n",
      "162    0.960171       0.0         0.0         0.0         1                 0   \n",
      "310    0.916028       1.0         0.0         1.0         1                 1   \n",
      "63     0.741713       0.0         0.0         1.0         0                 5   \n",
      "813    0.955747       1.0         0.0         0.0         1                 6   \n",
      "783    0.999772       1.0         0.0         1.0         1                 0   \n",
      "812    0.769754       0.0         0.0         1.0         0                 4   \n",
      "635    0.984209       1.0         0.0         1.0         1                 6   \n",
      "639    0.940224       1.0         0.0         1.0         1                 0   \n",
      "598    0.788706       1.0         0.0         1.0         0                 4   \n",
      "757    0.850706       1.0         0.0         1.0         0                 1   \n",
      "151    0.743308       1.0         0.0         1.0         0                 2   \n",
      "702    0.918295       0.0         0.0         1.0         1                 0   \n",
      "186    0.784878       1.0         0.0         1.0         0                 5   \n",
      "731    0.737378       1.0         0.0         0.0         0                 1   \n",
      "595    0.960089       1.0         0.0         1.0         0                 0   \n",
      "206    0.908023       1.0         0.0         1.0         0                 4   \n",
      "340    0.739853       0.0         0.0         1.0         0                 1   \n",
      "191    1.000000       1.0         0.0         0.0         1                 0   \n",
      "644    0.973243       1.0         0.0         1.0         1                 0   \n",
      "656    0.984631       1.0         0.0         1.0         1                 6   \n",
      "730    0.982926       1.0         0.0         1.0         1                 2   \n",
      "70     0.901296       1.0         0.0         1.0         0                 1   \n",
      "261    0.789152       1.0         0.0         1.0         0                 6   \n",
      "114    0.796289       1.0         0.0         0.0         0                 2   \n",
      "401    0.708678       1.0         0.0         1.0         0                 4   \n",
      "795    0.730927       1.0         0.0         1.0         0                 1   \n",
      "744    0.777257       0.0         0.0         1.0         0                 4   \n",
      "717    0.721902       1.0         0.0         1.0         0                 1   \n",
      "569    0.999277       1.0         0.0         0.0         1                 6   \n",
      "614    0.752906       0.0         1.0         0.0         0                 4   \n",
      "275    0.664750       1.0         1.0         0.0         0                 4   \n",
      "359    0.737468       0.0         0.0         1.0         0                 6   \n",
      "\n",
      "     FamilySizeEncoded  FareBin_Medium  FareBin_High  \n",
      "364                  1            True         False  \n",
      "104                  1            True         False  \n",
      "153                  2            True         False  \n",
      "162                  0            True         False  \n",
      "310                  1            True         False  \n",
      "63                   2            True         False  \n",
      "813                  0            True         False  \n",
      "783                  0            True         False  \n",
      "812                  1            True         False  \n",
      "635                  0            True         False  \n",
      "639                  0            True         False  \n",
      "598                  1            True         False  \n",
      "757                  1            True         False  \n",
      "151                  1            True         False  \n",
      "702                  0            True         False  \n",
      "186                  0            True         False  \n",
      "731                  1            True         False  \n",
      "595                  1           False          True  \n",
      "206                  0            True         False  \n",
      "340                  2            True         False  \n",
      "191                  0            True         False  \n",
      "644                  1            True         False  \n",
      "656                  1            True         False  \n",
      "730                  1           False          True  \n",
      "70                   1            True         False  \n",
      "261                  0            True         False  \n",
      "114                  1            True         False  \n",
      "401                  0            True         False  \n",
      "795                  1            True         False  \n",
      "744                  0            True         False  \n",
      "717                  1            True         False  \n",
      "569                  0            True         False  \n",
      "614                  0            True         False  \n",
      "275                  1            True         False  \n",
      "359                  0            True         False  \n"
     ]
    }
   ],
   "source": [
    "\n",
    "\n",
    "y_pred_log = best_log_model.predict(X_test_log)\n",
    "print(\"Logistic Regression Classification Report:\\n\")\n",
    "print(classification_report(y_test_log, y_pred_log))\n",
    "\n",
    "print(\"Confusion Matrix (Logistic Regression):\")\n",
    "print(confusion_matrix(y_test_log, y_pred_log))\n",
    "\n",
    "import numpy as np\n",
    "misclassified_indices_log = np.where(y_test_log != y_pred_log)\n",
    "print(\"Misclassified Samples (Logistic Regression):\")\n",
    "print(X_test_log.iloc[misclassified_indices_log])\n"
   ]
  },
  {
   "cell_type": "code",
   "execution_count": 102,
   "metadata": {},
   "outputs": [
    {
     "name": "stdout",
     "output_type": "stream",
     "text": [
      "AUC-ROC: 0.91\n"
     ]
    },
    {
     "data": {
      "image/png": "[encoded data removed]",
      "text/plain": [
       "<Figure size 640x480 with 1 Axes>"
      ]
     },
     "metadata": {},
     "output_type": "display_data"
    },
    {
     "data": {
      "image/png": "[encoded data removed]",
      "text/plain": [
       "<Figure size 640x480 with 1 Axes>"
      ]
     },
     "metadata": {},
     "output_type": "display_data"
    },
    {
     "data": {
      "image/png": "[encoded data removed]",
      "text/plain": [
       "<Figure size 640x480 with 1 Axes>"
      ]
     },
     "metadata": {},
     "output_type": "display_data"
    },
    {
     "data": {
      "image/png": "[encoded data removed]",
      "text/plain": [
       "<Figure size 640x480 with 1 Axes>"
      ]
     },
     "metadata": {},
     "output_type": "display_data"
    },
    {
     "data": {
      "text/plain": [
       "['random_forest_titanic.pkl']"
      ]
     },
     "execution_count": 102,
     "metadata": {},
     "output_type": "execute_result"
    }
   ],
   "source": [
    "roc_auc = roc_auc_score(y_test_rf, y_pred_rf_proba)\n",
    "print(f\"AUC-ROC: {roc_auc:.2f}\")\n",
    "\n",
    "fpr, tpr, _ = roc_curve(y_test_rf, y_pred_rf_proba)\n",
    "plt.plot(fpr, tpr, label=f\"AUC = {roc_auc:.2f}\")\n",
    "plt.xlabel(\"False Positive Rate\")\n",
    "plt.ylabel(\"True Positive Rate\")\n",
    "plt.title(\"ROC Curve - Random Forest\")\n",
    "plt.legend()\n",
    "plt.show()\n",
    "\n",
    "y_pred_log_proba = best_log_model.predict_proba(X_test_log)[:, 1]\n",
    "roc_auc_log = roc_auc_score(y_test_log, y_pred_log_proba)\n",
    "fpr_log, tpr_log, _ = roc_curve(y_test_log, y_pred_log_proba)\n",
    "\n",
    "plt.plot(fpr_log, tpr_log, label=f\"AUC = {roc_auc_log:.2f}\")\n",
    "plt.xlabel(\"False Positive Rate\")\n",
    "plt.ylabel(\"True Positive Rate\")\n",
    "plt.title(\"ROC Curve - Logistic Regression\")\n",
    "plt.legend()\n",
    "plt.show()\n",
    "\n",
    "\n",
    "log_coefficients = pd.Series(best_log_model.coef_[0], index=X_logistic.columns)\n",
    "log_coefficients.sort_values().plot(kind='barh', title=\"Feature Importance (Logistic Regression)\")\n",
    "plt.show()\n",
    "\n",
    "importances = pd.Series(best_rf_model.feature_importances_, index=X_rf.columns)\n",
    "importances.nlargest(10).plot(kind='barh')\n",
    "plt.title(\"Top 10 Feature Importances (Random Forest)\")\n",
    "plt.show()\n",
    "\n",
    "joblib.dump(best_log_model, 'logistic_regression_titanic.pkl')\n",
    "joblib.dump(best_rf_model, 'random_forest_titanic.pkl')"
   ]
  }
 ],
 "metadata": {
  "kernelspec": {
   "display_name": "Python 3",
   "language": "python",
   "name": "python3"
  },
  "language_info": {
   "codemirror_mode": {
    "name": "ipython",
    "version": 3
   },
   "file_extension": ".py",
   "mimetype": "text/x-python",
   "name": "python",
   "nbconvert_exporter": "python",
   "pygments_lexer": "ipython3",
   "version": "3.10.8"
  }
 },
 "nbformat": 4,
 "nbformat_minor": 2
}
